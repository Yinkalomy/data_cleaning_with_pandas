{
 "cells": [
  {
   "cell_type": "code",
   "execution_count": 1,
   "id": "93df2e8f",
   "metadata": {
    "ExecuteTime": {
     "end_time": "2023-08-26T15:19:56.934277Z",
     "start_time": "2023-08-26T15:19:56.912892Z"
    }
   },
   "outputs": [
    {
     "name": "stdout",
     "output_type": "stream",
     "text": [
      "hello world\n"
     ]
    }
   ],
   "source": [
    "print('hello world')"
   ]
  },
  {
   "cell_type": "code",
   "execution_count": 2,
   "outputs": [],
   "source": [
    "import pandas as pd"
   ],
   "metadata": {
    "collapsed": false,
    "ExecuteTime": {
     "end_time": "2023-08-26T15:41:23.762152Z",
     "start_time": "2023-08-26T15:41:21.329667Z"
    }
   }
  },
  {
   "cell_type": "markdown",
   "source": [
    "## Extraction"
   ],
   "metadata": {
    "collapsed": false
   }
  },
  {
   "cell_type": "code",
   "execution_count": 3,
   "outputs": [],
   "source": [
    "travels_data = pd.read_csv('https://drive.google.com/uc?id=1muwnik-uFGTKBdHmcQN5z68rD7qmdG-b')"
   ],
   "metadata": {
    "collapsed": false,
    "ExecuteTime": {
     "end_time": "2023-08-26T15:43:44.632663Z",
     "start_time": "2023-08-26T15:43:43.561809Z"
    }
   }
  },
  {
   "cell_type": "code",
   "execution_count": 4,
   "outputs": [
    {
     "data": {
      "text/plain": "(418, 6)"
     },
     "execution_count": 4,
     "metadata": {},
     "output_type": "execute_result"
    }
   ],
   "source": [
    "travels_data.shape"
   ],
   "metadata": {
    "collapsed": false,
    "ExecuteTime": {
     "end_time": "2023-08-26T15:44:19.106371Z",
     "start_time": "2023-08-26T15:44:19.059630Z"
    }
   }
  },
  {
   "cell_type": "code",
   "execution_count": 5,
   "outputs": [
    {
     "name": "stdout",
     "output_type": "stream",
     "text": [
      "<class 'pandas.core.frame.DataFrame'>\n",
      "RangeIndex: 418 entries, 0 to 417\n",
      "Data columns (total 6 columns):\n",
      " #   Column                 Non-Null Count  Dtype  \n",
      "---  ------                 --------------  -----  \n",
      " 0   Employee               418 non-null    object \n",
      " 1   Destination            418 non-null    object \n",
      " 2   Travel Start Date      418 non-null    object \n",
      " 3   Travel End Date        418 non-null    object \n",
      " 4   Actual Total Expenses  418 non-null    float64\n",
      " 5   Purpose Of Travel      415 non-null    object \n",
      "dtypes: float64(1), object(5)\n",
      "memory usage: 19.7+ KB\n"
     ]
    }
   ],
   "source": [
    "travels_data.info()"
   ],
   "metadata": {
    "collapsed": false,
    "ExecuteTime": {
     "end_time": "2023-08-26T15:45:02.309971Z",
     "start_time": "2023-08-26T15:45:02.276937Z"
    }
   }
  },
  {
   "cell_type": "markdown",
   "source": [
    "## null values in purpose of travel\n",
    "## date is in object"
   ],
   "metadata": {
    "collapsed": false
   }
  },
  {
   "cell_type": "code",
   "execution_count": 7,
   "outputs": [
    {
     "data": {
      "text/plain": "              Employee       Destination Travel Start Date Travel End Date  \\\n0         Aaron Salter    OCEAN CITY, MD        2017-05-31      2017-06-02   \n1    Abigail Ratnofsky     SAN DIEGO, CA        2016-01-24      2016-01-29   \n2       Adam Kisthardt       ORLANDO, FL        2018-10-04      2018-10-09   \n3        Adam P. Jones    OCEAN CITY, MD        2016-06-19      2016-06-21   \n4          Alan Butsch     SAN DIEGO, CA        2019-11-19      2019-11-22   \n5         Alberto Hook        AUSTIN, TX        2016-04-17      2016-04-22   \n6         Alberto Rein    OCEAN CITY, MD        2019-09-08      2019-09-12   \n7     Alison Danielson  PALM SPRINGS, CA        2019-09-23      2019-09-26   \n8        Alison Dollar    OCEAN CITY, MD        2015-06-17      2015-06-19   \n9     Alison Wakefield    OCEAN CITY, MD        2015-06-28      2015-06-30   \n10        Alpa Vaghani    OCEAN CITY, MD        2019-08-13      2019-08-17   \n11  Alysoun Mclaughlin     LAS VEGAS, NV        2019-07-11      2019-07-16   \n12       Amanda Konkus       ORLANDO, FL        2017-06-05      2017-06-09   \n13           Amber Ion    OCEAN CITY, MD        2018-10-17      2018-10-19   \n14          Amy Masson    OCEAN CITY, MD        2019-03-12      2019-03-15   \n15          Amy Samman    OCEAN CITY, MD        2015-08-12      2015-08-15   \n16          Ana Hester     SAN DIEGO, CA        2018-07-02      2018-07-07   \n17      Andrea Hennesy    OCEAN CITY, MD        2019-10-01      2019-10-04   \n18         Andrew Bock     LAS VEGAS, NV        2016-03-01      2016-03-04   \n19  Angela Wiley-Jones    OCEAN CITY, MD        2015-10-04      2015-10-07   \n\n    Actual Total Expenses Purpose Of Travel  \n0                  644.10        Conference  \n1                 2962.70        Conference  \n2                 1891.19        Conference  \n3                  324.36        Conference  \n4                 2141.51        Conference  \n5                 1856.49        Conference  \n6                  330.08        Conference  \n7                 2346.12          Training  \n8                  964.52        Conference  \n9                 1050.08        Conference  \n10                1876.97        Conference  \n11                2020.83        Conference  \n12                2288.26        Conference  \n13                 348.02        Conference  \n14                 567.07        Conference  \n15                1370.53        Conference  \n16                2101.76        Conference  \n17                 348.51        Conference  \n18                1369.40        Conference  \n19                 750.65        Conference  ",
      "text/html": "<div>\n<style scoped>\n    .dataframe tbody tr th:only-of-type {\n        vertical-align: middle;\n    }\n\n    .dataframe tbody tr th {\n        vertical-align: top;\n    }\n\n    .dataframe thead th {\n        text-align: right;\n    }\n</style>\n<table border=\"1\" class=\"dataframe\">\n  <thead>\n    <tr style=\"text-align: right;\">\n      <th></th>\n      <th>Employee</th>\n      <th>Destination</th>\n      <th>Travel Start Date</th>\n      <th>Travel End Date</th>\n      <th>Actual Total Expenses</th>\n      <th>Purpose Of Travel</th>\n    </tr>\n  </thead>\n  <tbody>\n    <tr>\n      <th>0</th>\n      <td>Aaron Salter</td>\n      <td>OCEAN CITY, MD</td>\n      <td>2017-05-31</td>\n      <td>2017-06-02</td>\n      <td>644.10</td>\n      <td>Conference</td>\n    </tr>\n    <tr>\n      <th>1</th>\n      <td>Abigail Ratnofsky</td>\n      <td>SAN DIEGO, CA</td>\n      <td>2016-01-24</td>\n      <td>2016-01-29</td>\n      <td>2962.70</td>\n      <td>Conference</td>\n    </tr>\n    <tr>\n      <th>2</th>\n      <td>Adam Kisthardt</td>\n      <td>ORLANDO, FL</td>\n      <td>2018-10-04</td>\n      <td>2018-10-09</td>\n      <td>1891.19</td>\n      <td>Conference</td>\n    </tr>\n    <tr>\n      <th>3</th>\n      <td>Adam P. Jones</td>\n      <td>OCEAN CITY, MD</td>\n      <td>2016-06-19</td>\n      <td>2016-06-21</td>\n      <td>324.36</td>\n      <td>Conference</td>\n    </tr>\n    <tr>\n      <th>4</th>\n      <td>Alan Butsch</td>\n      <td>SAN DIEGO, CA</td>\n      <td>2019-11-19</td>\n      <td>2019-11-22</td>\n      <td>2141.51</td>\n      <td>Conference</td>\n    </tr>\n    <tr>\n      <th>5</th>\n      <td>Alberto Hook</td>\n      <td>AUSTIN, TX</td>\n      <td>2016-04-17</td>\n      <td>2016-04-22</td>\n      <td>1856.49</td>\n      <td>Conference</td>\n    </tr>\n    <tr>\n      <th>6</th>\n      <td>Alberto Rein</td>\n      <td>OCEAN CITY, MD</td>\n      <td>2019-09-08</td>\n      <td>2019-09-12</td>\n      <td>330.08</td>\n      <td>Conference</td>\n    </tr>\n    <tr>\n      <th>7</th>\n      <td>Alison Danielson</td>\n      <td>PALM SPRINGS, CA</td>\n      <td>2019-09-23</td>\n      <td>2019-09-26</td>\n      <td>2346.12</td>\n      <td>Training</td>\n    </tr>\n    <tr>\n      <th>8</th>\n      <td>Alison Dollar</td>\n      <td>OCEAN CITY, MD</td>\n      <td>2015-06-17</td>\n      <td>2015-06-19</td>\n      <td>964.52</td>\n      <td>Conference</td>\n    </tr>\n    <tr>\n      <th>9</th>\n      <td>Alison Wakefield</td>\n      <td>OCEAN CITY, MD</td>\n      <td>2015-06-28</td>\n      <td>2015-06-30</td>\n      <td>1050.08</td>\n      <td>Conference</td>\n    </tr>\n    <tr>\n      <th>10</th>\n      <td>Alpa Vaghani</td>\n      <td>OCEAN CITY, MD</td>\n      <td>2019-08-13</td>\n      <td>2019-08-17</td>\n      <td>1876.97</td>\n      <td>Conference</td>\n    </tr>\n    <tr>\n      <th>11</th>\n      <td>Alysoun Mclaughlin</td>\n      <td>LAS VEGAS, NV</td>\n      <td>2019-07-11</td>\n      <td>2019-07-16</td>\n      <td>2020.83</td>\n      <td>Conference</td>\n    </tr>\n    <tr>\n      <th>12</th>\n      <td>Amanda Konkus</td>\n      <td>ORLANDO, FL</td>\n      <td>2017-06-05</td>\n      <td>2017-06-09</td>\n      <td>2288.26</td>\n      <td>Conference</td>\n    </tr>\n    <tr>\n      <th>13</th>\n      <td>Amber Ion</td>\n      <td>OCEAN CITY, MD</td>\n      <td>2018-10-17</td>\n      <td>2018-10-19</td>\n      <td>348.02</td>\n      <td>Conference</td>\n    </tr>\n    <tr>\n      <th>14</th>\n      <td>Amy Masson</td>\n      <td>OCEAN CITY, MD</td>\n      <td>2019-03-12</td>\n      <td>2019-03-15</td>\n      <td>567.07</td>\n      <td>Conference</td>\n    </tr>\n    <tr>\n      <th>15</th>\n      <td>Amy Samman</td>\n      <td>OCEAN CITY, MD</td>\n      <td>2015-08-12</td>\n      <td>2015-08-15</td>\n      <td>1370.53</td>\n      <td>Conference</td>\n    </tr>\n    <tr>\n      <th>16</th>\n      <td>Ana Hester</td>\n      <td>SAN DIEGO, CA</td>\n      <td>2018-07-02</td>\n      <td>2018-07-07</td>\n      <td>2101.76</td>\n      <td>Conference</td>\n    </tr>\n    <tr>\n      <th>17</th>\n      <td>Andrea Hennesy</td>\n      <td>OCEAN CITY, MD</td>\n      <td>2019-10-01</td>\n      <td>2019-10-04</td>\n      <td>348.51</td>\n      <td>Conference</td>\n    </tr>\n    <tr>\n      <th>18</th>\n      <td>Andrew Bock</td>\n      <td>LAS VEGAS, NV</td>\n      <td>2016-03-01</td>\n      <td>2016-03-04</td>\n      <td>1369.40</td>\n      <td>Conference</td>\n    </tr>\n    <tr>\n      <th>19</th>\n      <td>Angela Wiley-Jones</td>\n      <td>OCEAN CITY, MD</td>\n      <td>2015-10-04</td>\n      <td>2015-10-07</td>\n      <td>750.65</td>\n      <td>Conference</td>\n    </tr>\n  </tbody>\n</table>\n</div>"
     },
     "execution_count": 7,
     "metadata": {},
     "output_type": "execute_result"
    }
   ],
   "source": [
    "travels_data.head(20)"
   ],
   "metadata": {
    "collapsed": false,
    "ExecuteTime": {
     "end_time": "2023-08-26T15:51:48.744690Z",
     "start_time": "2023-08-26T15:51:48.724483Z"
    }
   }
  },
  {
   "cell_type": "code",
   "execution_count": null,
   "outputs": [],
   "source": [],
   "metadata": {
    "collapsed": false
   }
  }
 ],
 "metadata": {
  "kernelspec": {
   "display_name": "Python 3 (ipykernel)",
   "language": "python",
   "name": "python3"
  },
  "language_info": {
   "codemirror_mode": {
    "name": "ipython",
    "version": 3
   },
   "file_extension": ".py",
   "mimetype": "text/x-python",
   "name": "python",
   "nbconvert_exporter": "python",
   "pygments_lexer": "ipython3",
   "version": "3.9.13"
  }
 },
 "nbformat": 4,
 "nbformat_minor": 5
}
