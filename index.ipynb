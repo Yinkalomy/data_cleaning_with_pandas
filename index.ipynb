{
 "cells": [
  {
   "cell_type": "code",
   "execution_count": 1,
   "id": "93df2e8f",
   "metadata": {
    "ExecuteTime": {
     "end_time": "2023-08-26T15:19:56.934277Z",
     "start_time": "2023-08-26T15:19:56.912892Z"
    }
   },
   "outputs": [
    {
     "name": "stdout",
     "output_type": "stream",
     "text": [
      "hello world\n"
     ]
    }
   ],
   "source": [
    "print('hello world')"
   ]
  },
  {
   "cell_type": "code",
   "execution_count": 2,
   "outputs": [],
   "source": [
    "import pandas as pd"
   ],
   "metadata": {
    "collapsed": false,
    "ExecuteTime": {
     "end_time": "2023-08-26T15:41:23.762152Z",
     "start_time": "2023-08-26T15:41:21.329667Z"
    }
   }
  },
  {
   "cell_type": "markdown",
   "source": [
    "## Extraction"
   ],
   "metadata": {
    "collapsed": false
   }
  },
  {
   "cell_type": "code",
   "execution_count": 3,
   "outputs": [],
   "source": [
    "travels_data = pd.read_csv('https://drive.google.com/uc?id=1muwnik-uFGTKBdHmcQN5z68rD7qmdG-b')"
   ],
   "metadata": {
    "collapsed": false,
    "ExecuteTime": {
     "end_time": "2023-08-26T15:43:44.632663Z",
     "start_time": "2023-08-26T15:43:43.561809Z"
    }
   }
  },
  {
   "cell_type": "code",
   "execution_count": 4,
   "outputs": [
    {
     "data": {
      "text/plain": "(418, 6)"
     },
     "execution_count": 4,
     "metadata": {},
     "output_type": "execute_result"
    }
   ],
   "source": [
    "travels_data.shape"
   ],
   "metadata": {
    "collapsed": false,
    "ExecuteTime": {
     "end_time": "2023-08-26T15:44:19.106371Z",
     "start_time": "2023-08-26T15:44:19.059630Z"
    }
   }
  },
  {
   "cell_type": "code",
   "execution_count": 5,
   "outputs": [
    {
     "name": "stdout",
     "output_type": "stream",
     "text": [
      "<class 'pandas.core.frame.DataFrame'>\n",
      "RangeIndex: 418 entries, 0 to 417\n",
      "Data columns (total 6 columns):\n",
      " #   Column                 Non-Null Count  Dtype  \n",
      "---  ------                 --------------  -----  \n",
      " 0   Employee               418 non-null    object \n",
      " 1   Destination            418 non-null    object \n",
      " 2   Travel Start Date      418 non-null    object \n",
      " 3   Travel End Date        418 non-null    object \n",
      " 4   Actual Total Expenses  418 non-null    float64\n",
      " 5   Purpose Of Travel      415 non-null    object \n",
      "dtypes: float64(1), object(5)\n",
      "memory usage: 19.7+ KB\n"
     ]
    }
   ],
   "source": [
    "travels_data.info()"
   ],
   "metadata": {
    "collapsed": false,
    "ExecuteTime": {
     "end_time": "2023-08-26T15:45:02.309971Z",
     "start_time": "2023-08-26T15:45:02.276937Z"
    }
   }
  },
  {
   "cell_type": "markdown",
   "source": [
    "## null values in purpose of travel\n",
    "## date is in object"
   ],
   "metadata": {
    "collapsed": false
   }
  },
  {
   "cell_type": "code",
   "execution_count": 7,
   "outputs": [
    {
     "data": {
      "text/plain": "              Employee       Destination Travel Start Date Travel End Date  \\\n0         Aaron Salter    OCEAN CITY, MD        2017-05-31      2017-06-02   \n1    Abigail Ratnofsky     SAN DIEGO, CA        2016-01-24      2016-01-29   \n2       Adam Kisthardt       ORLANDO, FL        2018-10-04      2018-10-09   \n3        Adam P. Jones    OCEAN CITY, MD        2016-06-19      2016-06-21   \n4          Alan Butsch     SAN DIEGO, CA        2019-11-19      2019-11-22   \n5         Alberto Hook        AUSTIN, TX        2016-04-17      2016-04-22   \n6         Alberto Rein    OCEAN CITY, MD        2019-09-08      2019-09-12   \n7     Alison Danielson  PALM SPRINGS, CA        2019-09-23      2019-09-26   \n8        Alison Dollar    OCEAN CITY, MD        2015-06-17      2015-06-19   \n9     Alison Wakefield    OCEAN CITY, MD        2015-06-28      2015-06-30   \n10        Alpa Vaghani    OCEAN CITY, MD        2019-08-13      2019-08-17   \n11  Alysoun Mclaughlin     LAS VEGAS, NV        2019-07-11      2019-07-16   \n12       Amanda Konkus       ORLANDO, FL        2017-06-05      2017-06-09   \n13           Amber Ion    OCEAN CITY, MD        2018-10-17      2018-10-19   \n14          Amy Masson    OCEAN CITY, MD        2019-03-12      2019-03-15   \n15          Amy Samman    OCEAN CITY, MD        2015-08-12      2015-08-15   \n16          Ana Hester     SAN DIEGO, CA        2018-07-02      2018-07-07   \n17      Andrea Hennesy    OCEAN CITY, MD        2019-10-01      2019-10-04   \n18         Andrew Bock     LAS VEGAS, NV        2016-03-01      2016-03-04   \n19  Angela Wiley-Jones    OCEAN CITY, MD        2015-10-04      2015-10-07   \n\n    Actual Total Expenses Purpose Of Travel  \n0                  644.10        Conference  \n1                 2962.70        Conference  \n2                 1891.19        Conference  \n3                  324.36        Conference  \n4                 2141.51        Conference  \n5                 1856.49        Conference  \n6                  330.08        Conference  \n7                 2346.12          Training  \n8                  964.52        Conference  \n9                 1050.08        Conference  \n10                1876.97        Conference  \n11                2020.83        Conference  \n12                2288.26        Conference  \n13                 348.02        Conference  \n14                 567.07        Conference  \n15                1370.53        Conference  \n16                2101.76        Conference  \n17                 348.51        Conference  \n18                1369.40        Conference  \n19                 750.65        Conference  ",
      "text/html": "<div>\n<style scoped>\n    .dataframe tbody tr th:only-of-type {\n        vertical-align: middle;\n    }\n\n    .dataframe tbody tr th {\n        vertical-align: top;\n    }\n\n    .dataframe thead th {\n        text-align: right;\n    }\n</style>\n<table border=\"1\" class=\"dataframe\">\n  <thead>\n    <tr style=\"text-align: right;\">\n      <th></th>\n      <th>Employee</th>\n      <th>Destination</th>\n      <th>Travel Start Date</th>\n      <th>Travel End Date</th>\n      <th>Actual Total Expenses</th>\n      <th>Purpose Of Travel</th>\n    </tr>\n  </thead>\n  <tbody>\n    <tr>\n      <th>0</th>\n      <td>Aaron Salter</td>\n      <td>OCEAN CITY, MD</td>\n      <td>2017-05-31</td>\n      <td>2017-06-02</td>\n      <td>644.10</td>\n      <td>Conference</td>\n    </tr>\n    <tr>\n      <th>1</th>\n      <td>Abigail Ratnofsky</td>\n      <td>SAN DIEGO, CA</td>\n      <td>2016-01-24</td>\n      <td>2016-01-29</td>\n      <td>2962.70</td>\n      <td>Conference</td>\n    </tr>\n    <tr>\n      <th>2</th>\n      <td>Adam Kisthardt</td>\n      <td>ORLANDO, FL</td>\n      <td>2018-10-04</td>\n      <td>2018-10-09</td>\n      <td>1891.19</td>\n      <td>Conference</td>\n    </tr>\n    <tr>\n      <th>3</th>\n      <td>Adam P. Jones</td>\n      <td>OCEAN CITY, MD</td>\n      <td>2016-06-19</td>\n      <td>2016-06-21</td>\n      <td>324.36</td>\n      <td>Conference</td>\n    </tr>\n    <tr>\n      <th>4</th>\n      <td>Alan Butsch</td>\n      <td>SAN DIEGO, CA</td>\n      <td>2019-11-19</td>\n      <td>2019-11-22</td>\n      <td>2141.51</td>\n      <td>Conference</td>\n    </tr>\n    <tr>\n      <th>5</th>\n      <td>Alberto Hook</td>\n      <td>AUSTIN, TX</td>\n      <td>2016-04-17</td>\n      <td>2016-04-22</td>\n      <td>1856.49</td>\n      <td>Conference</td>\n    </tr>\n    <tr>\n      <th>6</th>\n      <td>Alberto Rein</td>\n      <td>OCEAN CITY, MD</td>\n      <td>2019-09-08</td>\n      <td>2019-09-12</td>\n      <td>330.08</td>\n      <td>Conference</td>\n    </tr>\n    <tr>\n      <th>7</th>\n      <td>Alison Danielson</td>\n      <td>PALM SPRINGS, CA</td>\n      <td>2019-09-23</td>\n      <td>2019-09-26</td>\n      <td>2346.12</td>\n      <td>Training</td>\n    </tr>\n    <tr>\n      <th>8</th>\n      <td>Alison Dollar</td>\n      <td>OCEAN CITY, MD</td>\n      <td>2015-06-17</td>\n      <td>2015-06-19</td>\n      <td>964.52</td>\n      <td>Conference</td>\n    </tr>\n    <tr>\n      <th>9</th>\n      <td>Alison Wakefield</td>\n      <td>OCEAN CITY, MD</td>\n      <td>2015-06-28</td>\n      <td>2015-06-30</td>\n      <td>1050.08</td>\n      <td>Conference</td>\n    </tr>\n    <tr>\n      <th>10</th>\n      <td>Alpa Vaghani</td>\n      <td>OCEAN CITY, MD</td>\n      <td>2019-08-13</td>\n      <td>2019-08-17</td>\n      <td>1876.97</td>\n      <td>Conference</td>\n    </tr>\n    <tr>\n      <th>11</th>\n      <td>Alysoun Mclaughlin</td>\n      <td>LAS VEGAS, NV</td>\n      <td>2019-07-11</td>\n      <td>2019-07-16</td>\n      <td>2020.83</td>\n      <td>Conference</td>\n    </tr>\n    <tr>\n      <th>12</th>\n      <td>Amanda Konkus</td>\n      <td>ORLANDO, FL</td>\n      <td>2017-06-05</td>\n      <td>2017-06-09</td>\n      <td>2288.26</td>\n      <td>Conference</td>\n    </tr>\n    <tr>\n      <th>13</th>\n      <td>Amber Ion</td>\n      <td>OCEAN CITY, MD</td>\n      <td>2018-10-17</td>\n      <td>2018-10-19</td>\n      <td>348.02</td>\n      <td>Conference</td>\n    </tr>\n    <tr>\n      <th>14</th>\n      <td>Amy Masson</td>\n      <td>OCEAN CITY, MD</td>\n      <td>2019-03-12</td>\n      <td>2019-03-15</td>\n      <td>567.07</td>\n      <td>Conference</td>\n    </tr>\n    <tr>\n      <th>15</th>\n      <td>Amy Samman</td>\n      <td>OCEAN CITY, MD</td>\n      <td>2015-08-12</td>\n      <td>2015-08-15</td>\n      <td>1370.53</td>\n      <td>Conference</td>\n    </tr>\n    <tr>\n      <th>16</th>\n      <td>Ana Hester</td>\n      <td>SAN DIEGO, CA</td>\n      <td>2018-07-02</td>\n      <td>2018-07-07</td>\n      <td>2101.76</td>\n      <td>Conference</td>\n    </tr>\n    <tr>\n      <th>17</th>\n      <td>Andrea Hennesy</td>\n      <td>OCEAN CITY, MD</td>\n      <td>2019-10-01</td>\n      <td>2019-10-04</td>\n      <td>348.51</td>\n      <td>Conference</td>\n    </tr>\n    <tr>\n      <th>18</th>\n      <td>Andrew Bock</td>\n      <td>LAS VEGAS, NV</td>\n      <td>2016-03-01</td>\n      <td>2016-03-04</td>\n      <td>1369.40</td>\n      <td>Conference</td>\n    </tr>\n    <tr>\n      <th>19</th>\n      <td>Angela Wiley-Jones</td>\n      <td>OCEAN CITY, MD</td>\n      <td>2015-10-04</td>\n      <td>2015-10-07</td>\n      <td>750.65</td>\n      <td>Conference</td>\n    </tr>\n  </tbody>\n</table>\n</div>"
     },
     "execution_count": 7,
     "metadata": {},
     "output_type": "execute_result"
    }
   ],
   "source": [
    "travels_data.head(20)"
   ],
   "metadata": {
    "collapsed": false,
    "ExecuteTime": {
     "end_time": "2023-08-26T15:51:48.744690Z",
     "start_time": "2023-08-26T15:51:48.724483Z"
    }
   }
  },
  {
   "cell_type": "code",
   "execution_count": 8,
   "outputs": [
    {
     "data": {
      "text/plain": "              Employee     Destination Travel Start Date Travel End Date  \\\n0         Aaron Salter  OCEAN CITY, MD        2017-05-31      2017-06-02   \n1    Abigail Ratnofsky   SAN DIEGO, CA        2016-01-24      2016-01-29   \n2       Adam Kisthardt     ORLANDO, FL        2018-10-04      2018-10-09   \n3        Adam P. Jones  OCEAN CITY, MD        2016-06-19      2016-06-21   \n4          Alan Butsch   SAN DIEGO, CA        2019-11-19      2019-11-22   \n..                 ...             ...               ...             ...   \n413     Warren Jensen!  OCEAN CITY, MD   2017-11-06           2017-11-09   \n414        Warp Jensen  OCEAN CITY, MD        2019-03-25      2019-03-26   \n415     Whitney Kujawa  OCEAN CITY, MD        2017-11-06      2017-11-09   \n416      William Kinna   CHARLOTTE, NC        2017-05-21      2017-05-26   \n417             Xin Qi  OCEAN CITY, MD        2019-08-13      2019-08-17   \n\n     Actual Total Expenses Purpose Of Travel  \n0                   644.10        Conference  \n1                  2962.70        Conference  \n2                  1891.19        Conference  \n3                   324.36        Conference  \n4                  2141.51        Conference  \n..                     ...               ...  \n413                 502.45        Conference  \n414                  78.00        Conference  \n415                 567.00        Conference  \n416                2163.67        Conference  \n417                2107.51        Conference  \n\n[418 rows x 6 columns]",
      "text/html": "<div>\n<style scoped>\n    .dataframe tbody tr th:only-of-type {\n        vertical-align: middle;\n    }\n\n    .dataframe tbody tr th {\n        vertical-align: top;\n    }\n\n    .dataframe thead th {\n        text-align: right;\n    }\n</style>\n<table border=\"1\" class=\"dataframe\">\n  <thead>\n    <tr style=\"text-align: right;\">\n      <th></th>\n      <th>Employee</th>\n      <th>Destination</th>\n      <th>Travel Start Date</th>\n      <th>Travel End Date</th>\n      <th>Actual Total Expenses</th>\n      <th>Purpose Of Travel</th>\n    </tr>\n  </thead>\n  <tbody>\n    <tr>\n      <th>0</th>\n      <td>Aaron Salter</td>\n      <td>OCEAN CITY, MD</td>\n      <td>2017-05-31</td>\n      <td>2017-06-02</td>\n      <td>644.10</td>\n      <td>Conference</td>\n    </tr>\n    <tr>\n      <th>1</th>\n      <td>Abigail Ratnofsky</td>\n      <td>SAN DIEGO, CA</td>\n      <td>2016-01-24</td>\n      <td>2016-01-29</td>\n      <td>2962.70</td>\n      <td>Conference</td>\n    </tr>\n    <tr>\n      <th>2</th>\n      <td>Adam Kisthardt</td>\n      <td>ORLANDO, FL</td>\n      <td>2018-10-04</td>\n      <td>2018-10-09</td>\n      <td>1891.19</td>\n      <td>Conference</td>\n    </tr>\n    <tr>\n      <th>3</th>\n      <td>Adam P. Jones</td>\n      <td>OCEAN CITY, MD</td>\n      <td>2016-06-19</td>\n      <td>2016-06-21</td>\n      <td>324.36</td>\n      <td>Conference</td>\n    </tr>\n    <tr>\n      <th>4</th>\n      <td>Alan Butsch</td>\n      <td>SAN DIEGO, CA</td>\n      <td>2019-11-19</td>\n      <td>2019-11-22</td>\n      <td>2141.51</td>\n      <td>Conference</td>\n    </tr>\n    <tr>\n      <th>...</th>\n      <td>...</td>\n      <td>...</td>\n      <td>...</td>\n      <td>...</td>\n      <td>...</td>\n      <td>...</td>\n    </tr>\n    <tr>\n      <th>413</th>\n      <td>Warren Jensen!</td>\n      <td>OCEAN CITY, MD</td>\n      <td>2017-11-06</td>\n      <td>2017-11-09</td>\n      <td>502.45</td>\n      <td>Conference</td>\n    </tr>\n    <tr>\n      <th>414</th>\n      <td>Warp Jensen</td>\n      <td>OCEAN CITY, MD</td>\n      <td>2019-03-25</td>\n      <td>2019-03-26</td>\n      <td>78.00</td>\n      <td>Conference</td>\n    </tr>\n    <tr>\n      <th>415</th>\n      <td>Whitney Kujawa</td>\n      <td>OCEAN CITY, MD</td>\n      <td>2017-11-06</td>\n      <td>2017-11-09</td>\n      <td>567.00</td>\n      <td>Conference</td>\n    </tr>\n    <tr>\n      <th>416</th>\n      <td>William Kinna</td>\n      <td>CHARLOTTE, NC</td>\n      <td>2017-05-21</td>\n      <td>2017-05-26</td>\n      <td>2163.67</td>\n      <td>Conference</td>\n    </tr>\n    <tr>\n      <th>417</th>\n      <td>Xin Qi</td>\n      <td>OCEAN CITY, MD</td>\n      <td>2019-08-13</td>\n      <td>2019-08-17</td>\n      <td>2107.51</td>\n      <td>Conference</td>\n    </tr>\n  </tbody>\n</table>\n<p>418 rows × 6 columns</p>\n</div>"
     },
     "execution_count": 8,
     "metadata": {},
     "output_type": "execute_result"
    }
   ],
   "source": [
    "travels_data.drop_duplicates()"
   ],
   "metadata": {
    "collapsed": false,
    "ExecuteTime": {
     "end_time": "2023-08-26T16:03:54.239111Z",
     "start_time": "2023-08-26T16:03:54.228173Z"
    }
   }
  },
  {
   "cell_type": "markdown",
   "source": [
    "## cleaning"
   ],
   "metadata": {
    "collapsed": false
   }
  },
  {
   "cell_type": "code",
   "execution_count": 10,
   "outputs": [
    {
     "data": {
      "text/plain": "str"
     },
     "execution_count": 10,
     "metadata": {},
     "output_type": "execute_result"
    }
   ],
   "source": [
    "type(travels_data['Travel Start Date'][0])"
   ],
   "metadata": {
    "collapsed": false,
    "ExecuteTime": {
     "end_time": "2023-08-26T16:08:11.851873Z",
     "start_time": "2023-08-26T16:08:11.843340Z"
    }
   }
  },
  {
   "cell_type": "code",
   "execution_count": 13,
   "outputs": [],
   "source": [
    "#create a copy\n",
    "travels_dataset = travels_data.copy()"
   ],
   "metadata": {
    "collapsed": false,
    "ExecuteTime": {
     "end_time": "2023-08-26T16:18:32.912656Z",
     "start_time": "2023-08-26T16:18:32.904949Z"
    }
   }
  },
  {
   "cell_type": "code",
   "execution_count": 12,
   "outputs": [],
   "source": [
    "travels_data['Travel Start Date'] = pd.to_datetime(travels_data['Travel Start Date'])"
   ],
   "metadata": {
    "collapsed": false,
    "ExecuteTime": {
     "end_time": "2023-08-26T16:15:56.878142Z",
     "start_time": "2023-08-26T16:15:56.841028Z"
    }
   }
  },
  {
   "cell_type": "code",
   "execution_count": 11,
   "outputs": [],
   "source": [
    "def remove_white_space(text):\n",
    "    if type(text) == str:\n",
    "        return text.strip()\n",
    "    return text"
   ],
   "metadata": {
    "collapsed": false,
    "ExecuteTime": {
     "end_time": "2023-08-26T16:14:43.078690Z",
     "start_time": "2023-08-26T16:14:43.064205Z"
    }
   }
  },
  {
   "cell_type": "code",
   "execution_count": 14,
   "outputs": [],
   "source": [
    "travels_dataset['Travel Start Date'] = travels_dataset['Travel Start Date'].apply(remove_white_space)"
   ],
   "metadata": {
    "collapsed": false,
    "ExecuteTime": {
     "end_time": "2023-08-26T16:19:57.972938Z",
     "start_time": "2023-08-26T16:19:57.965028Z"
    }
   }
  },
  {
   "cell_type": "code",
   "execution_count": 15,
   "outputs": [],
   "source": [
    "travels_dataset['Travel Start Date'] = pd.to_datetime(travels_dataset['Travel Start Date'])"
   ],
   "metadata": {
    "collapsed": false,
    "ExecuteTime": {
     "end_time": "2023-08-26T16:20:38.664982Z",
     "start_time": "2023-08-26T16:20:38.649301Z"
    }
   }
  },
  {
   "cell_type": "code",
   "execution_count": 16,
   "outputs": [
    {
     "name": "stdout",
     "output_type": "stream",
     "text": [
      "<class 'pandas.core.frame.DataFrame'>\n",
      "RangeIndex: 418 entries, 0 to 417\n",
      "Data columns (total 6 columns):\n",
      " #   Column                 Non-Null Count  Dtype         \n",
      "---  ------                 --------------  -----         \n",
      " 0   Employee               418 non-null    object        \n",
      " 1   Destination            418 non-null    object        \n",
      " 2   Travel Start Date      418 non-null    datetime64[ns]\n",
      " 3   Travel End Date        418 non-null    object        \n",
      " 4   Actual Total Expenses  418 non-null    float64       \n",
      " 5   Purpose Of Travel      415 non-null    object        \n",
      "dtypes: datetime64[ns](1), float64(1), object(4)\n",
      "memory usage: 19.7+ KB\n"
     ]
    }
   ],
   "source": [
    "travels_dataset.info()"
   ],
   "metadata": {
    "collapsed": false,
    "ExecuteTime": {
     "end_time": "2023-08-26T16:21:01.481730Z",
     "start_time": "2023-08-26T16:21:01.454352Z"
    }
   }
  },
  {
   "cell_type": "code",
   "execution_count": 17,
   "outputs": [],
   "source": [
    "travels_dataset['Travel End Date'] = travels_dataset['Travel End Date'].apply(remove_white_space)"
   ],
   "metadata": {
    "collapsed": false,
    "ExecuteTime": {
     "end_time": "2023-08-26T16:25:42.786189Z",
     "start_time": "2023-08-26T16:25:42.763893Z"
    }
   }
  },
  {
   "cell_type": "code",
   "execution_count": 18,
   "outputs": [],
   "source": [
    "travels_dataset['Travel End Date'] = pd.to_datetime(travels_dataset['Travel End Date'])"
   ],
   "metadata": {
    "collapsed": false,
    "ExecuteTime": {
     "end_time": "2023-08-26T16:26:41.501175Z",
     "start_time": "2023-08-26T16:26:41.472219Z"
    }
   }
  },
  {
   "cell_type": "code",
   "execution_count": 19,
   "outputs": [
    {
     "name": "stdout",
     "output_type": "stream",
     "text": [
      "<class 'pandas.core.frame.DataFrame'>\n",
      "RangeIndex: 418 entries, 0 to 417\n",
      "Data columns (total 6 columns):\n",
      " #   Column                 Non-Null Count  Dtype         \n",
      "---  ------                 --------------  -----         \n",
      " 0   Employee               418 non-null    object        \n",
      " 1   Destination            418 non-null    object        \n",
      " 2   Travel Start Date      418 non-null    datetime64[ns]\n",
      " 3   Travel End Date        418 non-null    datetime64[ns]\n",
      " 4   Actual Total Expenses  418 non-null    float64       \n",
      " 5   Purpose Of Travel      415 non-null    object        \n",
      "dtypes: datetime64[ns](2), float64(1), object(3)\n",
      "memory usage: 19.7+ KB\n"
     ]
    }
   ],
   "source": [
    "travels_dataset.info()"
   ],
   "metadata": {
    "collapsed": false,
    "ExecuteTime": {
     "end_time": "2023-08-26T16:27:04.849545Z",
     "start_time": "2023-08-26T16:27:04.835505Z"
    }
   }
  },
  {
   "cell_type": "code",
   "execution_count": 20,
   "outputs": [
    {
     "name": "stdout",
     "output_type": "stream",
     "text": [
      "<class 'pandas.core.frame.DataFrame'>\n",
      "RangeIndex: 418 entries, 0 to 417\n",
      "Data columns (total 6 columns):\n",
      " #   Column                 Non-Null Count  Dtype         \n",
      "---  ------                 --------------  -----         \n",
      " 0   Employee               418 non-null    object        \n",
      " 1   Destination            418 non-null    object        \n",
      " 2   Travel Start Date      418 non-null    datetime64[ns]\n",
      " 3   Travel End Date        418 non-null    object        \n",
      " 4   Actual Total Expenses  418 non-null    float64       \n",
      " 5   Purpose Of Travel      415 non-null    object        \n",
      "dtypes: datetime64[ns](1), float64(1), object(4)\n",
      "memory usage: 19.7+ KB\n"
     ]
    }
   ],
   "source": [
    "travels_data.info()"
   ],
   "metadata": {
    "collapsed": false,
    "ExecuteTime": {
     "end_time": "2023-08-26T16:29:02.760712Z",
     "start_time": "2023-08-26T16:29:02.739906Z"
    }
   }
  },
  {
   "cell_type": "code",
   "execution_count": 21,
   "outputs": [
    {
     "data": {
      "text/plain": "             Employee     Destination Travel Start Date Travel End Date  \\\n126     Gaila Compton  OCEAN CITY, MD        2019-09-25      2019-09-27   \n274      Mark Sheelor   LAS VEGAS, NV        2017-03-06      2017-03-08   \n385  Tamara Maldonado  OCEAN CITY, MD        2017-10-19      2017-10-20   \n\n     Actual Total Expenses Purpose Of Travel  \n126                 690.00               NaN  \n274                1411.34               NaN  \n385                  73.50               NaN  ",
      "text/html": "<div>\n<style scoped>\n    .dataframe tbody tr th:only-of-type {\n        vertical-align: middle;\n    }\n\n    .dataframe tbody tr th {\n        vertical-align: top;\n    }\n\n    .dataframe thead th {\n        text-align: right;\n    }\n</style>\n<table border=\"1\" class=\"dataframe\">\n  <thead>\n    <tr style=\"text-align: right;\">\n      <th></th>\n      <th>Employee</th>\n      <th>Destination</th>\n      <th>Travel Start Date</th>\n      <th>Travel End Date</th>\n      <th>Actual Total Expenses</th>\n      <th>Purpose Of Travel</th>\n    </tr>\n  </thead>\n  <tbody>\n    <tr>\n      <th>126</th>\n      <td>Gaila Compton</td>\n      <td>OCEAN CITY, MD</td>\n      <td>2019-09-25</td>\n      <td>2019-09-27</td>\n      <td>690.00</td>\n      <td>NaN</td>\n    </tr>\n    <tr>\n      <th>274</th>\n      <td>Mark Sheelor</td>\n      <td>LAS VEGAS, NV</td>\n      <td>2017-03-06</td>\n      <td>2017-03-08</td>\n      <td>1411.34</td>\n      <td>NaN</td>\n    </tr>\n    <tr>\n      <th>385</th>\n      <td>Tamara Maldonado</td>\n      <td>OCEAN CITY, MD</td>\n      <td>2017-10-19</td>\n      <td>2017-10-20</td>\n      <td>73.50</td>\n      <td>NaN</td>\n    </tr>\n  </tbody>\n</table>\n</div>"
     },
     "execution_count": 21,
     "metadata": {},
     "output_type": "execute_result"
    }
   ],
   "source": [
    "travels_dataset[travels_dataset['Purpose Of Travel'].isna()]"
   ],
   "metadata": {
    "collapsed": false,
    "ExecuteTime": {
     "end_time": "2023-08-26T16:49:56.993423Z",
     "start_time": "2023-08-26T16:49:56.975278Z"
    }
   }
  },
  {
   "cell_type": "code",
   "execution_count": 22,
   "outputs": [],
   "source": [
    "travels_dataset['Purpose Of Travel'] = travels_dataset['Purpose Of Travel'].fillna('Not Provided')"
   ],
   "metadata": {
    "collapsed": false,
    "ExecuteTime": {
     "end_time": "2023-08-26T16:54:46.244798Z",
     "start_time": "2023-08-26T16:54:46.218901Z"
    }
   }
  },
  {
   "cell_type": "code",
   "execution_count": 23,
   "outputs": [
    {
     "name": "stdout",
     "output_type": "stream",
     "text": [
      "<class 'pandas.core.frame.DataFrame'>\n",
      "RangeIndex: 418 entries, 0 to 417\n",
      "Data columns (total 6 columns):\n",
      " #   Column                 Non-Null Count  Dtype         \n",
      "---  ------                 --------------  -----         \n",
      " 0   Employee               418 non-null    object        \n",
      " 1   Destination            418 non-null    object        \n",
      " 2   Travel Start Date      418 non-null    datetime64[ns]\n",
      " 3   Travel End Date        418 non-null    datetime64[ns]\n",
      " 4   Actual Total Expenses  418 non-null    float64       \n",
      " 5   Purpose Of Travel      418 non-null    object        \n",
      "dtypes: datetime64[ns](2), float64(1), object(3)\n",
      "memory usage: 19.7+ KB\n"
     ]
    }
   ],
   "source": [
    "# check that the changes are applied\n",
    "travels_dataset.info()"
   ],
   "metadata": {
    "collapsed": false,
    "ExecuteTime": {
     "end_time": "2023-08-26T16:54:59.941678Z",
     "start_time": "2023-08-26T16:54:59.894141Z"
    }
   }
  },
  {
   "cell_type": "code",
   "execution_count": 24,
   "outputs": [],
   "source": [
    "def extract_state(text):\n",
    "    \"\"\"Extract state\"\"\"\n",
    "    result = text.split(',')[1]\n",
    "    return result\n",
    "\n",
    "def extract_city(text):\n",
    "    \"\"\"Extract city\"\"\"\n",
    "    result = text.split(',')[0]\n",
    "    return result\n"
   ],
   "metadata": {
    "collapsed": false,
    "ExecuteTime": {
     "end_time": "2023-08-26T17:02:18.966891Z",
     "start_time": "2023-08-26T17:02:18.958957Z"
    }
   }
  },
  {
   "cell_type": "code",
   "execution_count": 25,
   "outputs": [],
   "source": [
    "\n",
    "travels_dataset['State'] = travels_dataset['Destination'].apply(extract_state)\n",
    "travels_dataset['City'] = travels_dataset['Destination'].apply(extract_city)"
   ],
   "metadata": {
    "collapsed": false,
    "ExecuteTime": {
     "end_time": "2023-08-26T17:04:27.881501Z",
     "start_time": "2023-08-26T17:04:27.876883Z"
    }
   }
  },
  {
   "cell_type": "code",
   "execution_count": 26,
   "outputs": [
    {
     "data": {
      "text/plain": "              Employee     Destination Travel Start Date Travel End Date  \\\n0         Aaron Salter  OCEAN CITY, MD        2017-05-31      2017-06-02   \n1    Abigail Ratnofsky   SAN DIEGO, CA        2016-01-24      2016-01-29   \n2       Adam Kisthardt     ORLANDO, FL        2018-10-04      2018-10-09   \n3        Adam P. Jones  OCEAN CITY, MD        2016-06-19      2016-06-21   \n4          Alan Butsch   SAN DIEGO, CA        2019-11-19      2019-11-22   \n..                 ...             ...               ...             ...   \n413     Warren Jensen!  OCEAN CITY, MD        2017-11-06      2017-11-09   \n414        Warp Jensen  OCEAN CITY, MD        2019-03-25      2019-03-26   \n415     Whitney Kujawa  OCEAN CITY, MD        2017-11-06      2017-11-09   \n416      William Kinna   CHARLOTTE, NC        2017-05-21      2017-05-26   \n417             Xin Qi  OCEAN CITY, MD        2019-08-13      2019-08-17   \n\n     Actual Total Expenses Purpose Of Travel State        City  \n0                   644.10        Conference    MD  OCEAN CITY  \n1                  2962.70        Conference    CA   SAN DIEGO  \n2                  1891.19        Conference    FL     ORLANDO  \n3                   324.36        Conference    MD  OCEAN CITY  \n4                  2141.51        Conference    CA   SAN DIEGO  \n..                     ...               ...   ...         ...  \n413                 502.45        Conference    MD  OCEAN CITY  \n414                  78.00        Conference    MD  OCEAN CITY  \n415                 567.00        Conference    MD  OCEAN CITY  \n416                2163.67        Conference    NC   CHARLOTTE  \n417                2107.51        Conference    MD  OCEAN CITY  \n\n[418 rows x 8 columns]",
      "text/html": "<div>\n<style scoped>\n    .dataframe tbody tr th:only-of-type {\n        vertical-align: middle;\n    }\n\n    .dataframe tbody tr th {\n        vertical-align: top;\n    }\n\n    .dataframe thead th {\n        text-align: right;\n    }\n</style>\n<table border=\"1\" class=\"dataframe\">\n  <thead>\n    <tr style=\"text-align: right;\">\n      <th></th>\n      <th>Employee</th>\n      <th>Destination</th>\n      <th>Travel Start Date</th>\n      <th>Travel End Date</th>\n      <th>Actual Total Expenses</th>\n      <th>Purpose Of Travel</th>\n      <th>State</th>\n      <th>City</th>\n    </tr>\n  </thead>\n  <tbody>\n    <tr>\n      <th>0</th>\n      <td>Aaron Salter</td>\n      <td>OCEAN CITY, MD</td>\n      <td>2017-05-31</td>\n      <td>2017-06-02</td>\n      <td>644.10</td>\n      <td>Conference</td>\n      <td>MD</td>\n      <td>OCEAN CITY</td>\n    </tr>\n    <tr>\n      <th>1</th>\n      <td>Abigail Ratnofsky</td>\n      <td>SAN DIEGO, CA</td>\n      <td>2016-01-24</td>\n      <td>2016-01-29</td>\n      <td>2962.70</td>\n      <td>Conference</td>\n      <td>CA</td>\n      <td>SAN DIEGO</td>\n    </tr>\n    <tr>\n      <th>2</th>\n      <td>Adam Kisthardt</td>\n      <td>ORLANDO, FL</td>\n      <td>2018-10-04</td>\n      <td>2018-10-09</td>\n      <td>1891.19</td>\n      <td>Conference</td>\n      <td>FL</td>\n      <td>ORLANDO</td>\n    </tr>\n    <tr>\n      <th>3</th>\n      <td>Adam P. Jones</td>\n      <td>OCEAN CITY, MD</td>\n      <td>2016-06-19</td>\n      <td>2016-06-21</td>\n      <td>324.36</td>\n      <td>Conference</td>\n      <td>MD</td>\n      <td>OCEAN CITY</td>\n    </tr>\n    <tr>\n      <th>4</th>\n      <td>Alan Butsch</td>\n      <td>SAN DIEGO, CA</td>\n      <td>2019-11-19</td>\n      <td>2019-11-22</td>\n      <td>2141.51</td>\n      <td>Conference</td>\n      <td>CA</td>\n      <td>SAN DIEGO</td>\n    </tr>\n    <tr>\n      <th>...</th>\n      <td>...</td>\n      <td>...</td>\n      <td>...</td>\n      <td>...</td>\n      <td>...</td>\n      <td>...</td>\n      <td>...</td>\n      <td>...</td>\n    </tr>\n    <tr>\n      <th>413</th>\n      <td>Warren Jensen!</td>\n      <td>OCEAN CITY, MD</td>\n      <td>2017-11-06</td>\n      <td>2017-11-09</td>\n      <td>502.45</td>\n      <td>Conference</td>\n      <td>MD</td>\n      <td>OCEAN CITY</td>\n    </tr>\n    <tr>\n      <th>414</th>\n      <td>Warp Jensen</td>\n      <td>OCEAN CITY, MD</td>\n      <td>2019-03-25</td>\n      <td>2019-03-26</td>\n      <td>78.00</td>\n      <td>Conference</td>\n      <td>MD</td>\n      <td>OCEAN CITY</td>\n    </tr>\n    <tr>\n      <th>415</th>\n      <td>Whitney Kujawa</td>\n      <td>OCEAN CITY, MD</td>\n      <td>2017-11-06</td>\n      <td>2017-11-09</td>\n      <td>567.00</td>\n      <td>Conference</td>\n      <td>MD</td>\n      <td>OCEAN CITY</td>\n    </tr>\n    <tr>\n      <th>416</th>\n      <td>William Kinna</td>\n      <td>CHARLOTTE, NC</td>\n      <td>2017-05-21</td>\n      <td>2017-05-26</td>\n      <td>2163.67</td>\n      <td>Conference</td>\n      <td>NC</td>\n      <td>CHARLOTTE</td>\n    </tr>\n    <tr>\n      <th>417</th>\n      <td>Xin Qi</td>\n      <td>OCEAN CITY, MD</td>\n      <td>2019-08-13</td>\n      <td>2019-08-17</td>\n      <td>2107.51</td>\n      <td>Conference</td>\n      <td>MD</td>\n      <td>OCEAN CITY</td>\n    </tr>\n  </tbody>\n</table>\n<p>418 rows × 8 columns</p>\n</div>"
     },
     "execution_count": 26,
     "metadata": {},
     "output_type": "execute_result"
    }
   ],
   "source": [
    "travels_dataset"
   ],
   "metadata": {
    "collapsed": false,
    "ExecuteTime": {
     "end_time": "2023-08-26T17:04:31.660277Z",
     "start_time": "2023-08-26T17:04:31.642966Z"
    }
   }
  },
  {
   "cell_type": "code",
   "execution_count": 27,
   "outputs": [],
   "source": [
    "def extract_firstname(text):\n",
    "    \"\"\"Extract firstname\"\"\"\n",
    "    result = text.split(' ')[0]\n",
    "    return result\n",
    "\n",
    "def extract_lastname(text):\n",
    "    \"\"\"Extract lastname\"\"\"\n",
    "    result = text.split(' ')[-1]\n",
    "    return result"
   ],
   "metadata": {
    "collapsed": false,
    "ExecuteTime": {
     "end_time": "2023-08-26T17:12:22.803559Z",
     "start_time": "2023-08-26T17:12:22.793652Z"
    }
   }
  },
  {
   "cell_type": "code",
   "execution_count": 28,
   "outputs": [],
   "source": [
    "travels_dataset['Firstname'] = travels_dataset['Employee'].apply(extract_firstname)\n",
    "travels_dataset['Lastname'] = travels_dataset['Employee'].apply(extract_lastname)"
   ],
   "metadata": {
    "collapsed": false,
    "ExecuteTime": {
     "end_time": "2023-08-26T17:12:28.069422Z",
     "start_time": "2023-08-26T17:12:28.062076Z"
    }
   }
  },
  {
   "cell_type": "markdown",
   "source": [],
   "metadata": {
    "collapsed": false
   }
  },
  {
   "cell_type": "code",
   "execution_count": 29,
   "outputs": [
    {
     "data": {
      "text/plain": "              Employee     Destination Travel Start Date Travel End Date  \\\n0         Aaron Salter  OCEAN CITY, MD        2017-05-31      2017-06-02   \n1    Abigail Ratnofsky   SAN DIEGO, CA        2016-01-24      2016-01-29   \n2       Adam Kisthardt     ORLANDO, FL        2018-10-04      2018-10-09   \n3        Adam P. Jones  OCEAN CITY, MD        2016-06-19      2016-06-21   \n4          Alan Butsch   SAN DIEGO, CA        2019-11-19      2019-11-22   \n..                 ...             ...               ...             ...   \n413     Warren Jensen!  OCEAN CITY, MD        2017-11-06      2017-11-09   \n414        Warp Jensen  OCEAN CITY, MD        2019-03-25      2019-03-26   \n415     Whitney Kujawa  OCEAN CITY, MD        2017-11-06      2017-11-09   \n416      William Kinna   CHARLOTTE, NC        2017-05-21      2017-05-26   \n417             Xin Qi  OCEAN CITY, MD        2019-08-13      2019-08-17   \n\n     Actual Total Expenses Purpose Of Travel State        City Firstname  \\\n0                   644.10        Conference    MD  OCEAN CITY     Aaron   \n1                  2962.70        Conference    CA   SAN DIEGO   Abigail   \n2                  1891.19        Conference    FL     ORLANDO      Adam   \n3                   324.36        Conference    MD  OCEAN CITY      Adam   \n4                  2141.51        Conference    CA   SAN DIEGO      Alan   \n..                     ...               ...   ...         ...       ...   \n413                 502.45        Conference    MD  OCEAN CITY    Warren   \n414                  78.00        Conference    MD  OCEAN CITY      Warp   \n415                 567.00        Conference    MD  OCEAN CITY   Whitney   \n416                2163.67        Conference    NC   CHARLOTTE   William   \n417                2107.51        Conference    MD  OCEAN CITY       Xin   \n\n      Lastname  \n0       Salter  \n1    Ratnofsky  \n2    Kisthardt  \n3        Jones  \n4       Butsch  \n..         ...  \n413    Jensen!  \n414     Jensen  \n415     Kujawa  \n416      Kinna  \n417         Qi  \n\n[418 rows x 10 columns]",
      "text/html": "<div>\n<style scoped>\n    .dataframe tbody tr th:only-of-type {\n        vertical-align: middle;\n    }\n\n    .dataframe tbody tr th {\n        vertical-align: top;\n    }\n\n    .dataframe thead th {\n        text-align: right;\n    }\n</style>\n<table border=\"1\" class=\"dataframe\">\n  <thead>\n    <tr style=\"text-align: right;\">\n      <th></th>\n      <th>Employee</th>\n      <th>Destination</th>\n      <th>Travel Start Date</th>\n      <th>Travel End Date</th>\n      <th>Actual Total Expenses</th>\n      <th>Purpose Of Travel</th>\n      <th>State</th>\n      <th>City</th>\n      <th>Firstname</th>\n      <th>Lastname</th>\n    </tr>\n  </thead>\n  <tbody>\n    <tr>\n      <th>0</th>\n      <td>Aaron Salter</td>\n      <td>OCEAN CITY, MD</td>\n      <td>2017-05-31</td>\n      <td>2017-06-02</td>\n      <td>644.10</td>\n      <td>Conference</td>\n      <td>MD</td>\n      <td>OCEAN CITY</td>\n      <td>Aaron</td>\n      <td>Salter</td>\n    </tr>\n    <tr>\n      <th>1</th>\n      <td>Abigail Ratnofsky</td>\n      <td>SAN DIEGO, CA</td>\n      <td>2016-01-24</td>\n      <td>2016-01-29</td>\n      <td>2962.70</td>\n      <td>Conference</td>\n      <td>CA</td>\n      <td>SAN DIEGO</td>\n      <td>Abigail</td>\n      <td>Ratnofsky</td>\n    </tr>\n    <tr>\n      <th>2</th>\n      <td>Adam Kisthardt</td>\n      <td>ORLANDO, FL</td>\n      <td>2018-10-04</td>\n      <td>2018-10-09</td>\n      <td>1891.19</td>\n      <td>Conference</td>\n      <td>FL</td>\n      <td>ORLANDO</td>\n      <td>Adam</td>\n      <td>Kisthardt</td>\n    </tr>\n    <tr>\n      <th>3</th>\n      <td>Adam P. Jones</td>\n      <td>OCEAN CITY, MD</td>\n      <td>2016-06-19</td>\n      <td>2016-06-21</td>\n      <td>324.36</td>\n      <td>Conference</td>\n      <td>MD</td>\n      <td>OCEAN CITY</td>\n      <td>Adam</td>\n      <td>Jones</td>\n    </tr>\n    <tr>\n      <th>4</th>\n      <td>Alan Butsch</td>\n      <td>SAN DIEGO, CA</td>\n      <td>2019-11-19</td>\n      <td>2019-11-22</td>\n      <td>2141.51</td>\n      <td>Conference</td>\n      <td>CA</td>\n      <td>SAN DIEGO</td>\n      <td>Alan</td>\n      <td>Butsch</td>\n    </tr>\n    <tr>\n      <th>...</th>\n      <td>...</td>\n      <td>...</td>\n      <td>...</td>\n      <td>...</td>\n      <td>...</td>\n      <td>...</td>\n      <td>...</td>\n      <td>...</td>\n      <td>...</td>\n      <td>...</td>\n    </tr>\n    <tr>\n      <th>413</th>\n      <td>Warren Jensen!</td>\n      <td>OCEAN CITY, MD</td>\n      <td>2017-11-06</td>\n      <td>2017-11-09</td>\n      <td>502.45</td>\n      <td>Conference</td>\n      <td>MD</td>\n      <td>OCEAN CITY</td>\n      <td>Warren</td>\n      <td>Jensen!</td>\n    </tr>\n    <tr>\n      <th>414</th>\n      <td>Warp Jensen</td>\n      <td>OCEAN CITY, MD</td>\n      <td>2019-03-25</td>\n      <td>2019-03-26</td>\n      <td>78.00</td>\n      <td>Conference</td>\n      <td>MD</td>\n      <td>OCEAN CITY</td>\n      <td>Warp</td>\n      <td>Jensen</td>\n    </tr>\n    <tr>\n      <th>415</th>\n      <td>Whitney Kujawa</td>\n      <td>OCEAN CITY, MD</td>\n      <td>2017-11-06</td>\n      <td>2017-11-09</td>\n      <td>567.00</td>\n      <td>Conference</td>\n      <td>MD</td>\n      <td>OCEAN CITY</td>\n      <td>Whitney</td>\n      <td>Kujawa</td>\n    </tr>\n    <tr>\n      <th>416</th>\n      <td>William Kinna</td>\n      <td>CHARLOTTE, NC</td>\n      <td>2017-05-21</td>\n      <td>2017-05-26</td>\n      <td>2163.67</td>\n      <td>Conference</td>\n      <td>NC</td>\n      <td>CHARLOTTE</td>\n      <td>William</td>\n      <td>Kinna</td>\n    </tr>\n    <tr>\n      <th>417</th>\n      <td>Xin Qi</td>\n      <td>OCEAN CITY, MD</td>\n      <td>2019-08-13</td>\n      <td>2019-08-17</td>\n      <td>2107.51</td>\n      <td>Conference</td>\n      <td>MD</td>\n      <td>OCEAN CITY</td>\n      <td>Xin</td>\n      <td>Qi</td>\n    </tr>\n  </tbody>\n</table>\n<p>418 rows × 10 columns</p>\n</div>"
     },
     "execution_count": 29,
     "metadata": {},
     "output_type": "execute_result"
    }
   ],
   "source": [
    "travels_dataset"
   ],
   "metadata": {
    "collapsed": false,
    "ExecuteTime": {
     "end_time": "2023-08-26T17:13:06.583392Z",
     "start_time": "2023-08-26T17:13:06.564324Z"
    }
   }
  },
  {
   "cell_type": "code",
   "execution_count": 31,
   "outputs": [],
   "source": [
    "columns = ['Employee', 'Firstname', 'Lastname', 'State', 'City', 'Travel Start Date', 'Travel End Date', 'Actual Total Expenses', 'Purpose Of Travel']\n",
    "final_travel = travels_dataset[columns].copy()"
   ],
   "metadata": {
    "collapsed": false,
    "ExecuteTime": {
     "end_time": "2023-08-26T17:43:52.427060Z",
     "start_time": "2023-08-26T17:43:52.414736Z"
    }
   }
  },
  {
   "cell_type": "code",
   "execution_count": 35,
   "outputs": [],
   "source": [
    "final_travel.to_csv('cleaned_travels_dataset.csv')"
   ],
   "metadata": {
    "collapsed": false,
    "ExecuteTime": {
     "end_time": "2023-08-27T13:21:04.683808Z",
     "start_time": "2023-08-27T13:21:04.640590Z"
    }
   }
  },
  {
   "cell_type": "code",
   "execution_count": 51,
   "outputs": [],
   "source": [
    "def remove_special_character(text):\n",
    "    result = text.replace('@', ' ')\n",
    "    result = result.replace('!', ' ')\n",
    "    return result"
   ],
   "metadata": {
    "collapsed": false,
    "ExecuteTime": {
     "end_time": "2023-08-27T13:38:13.007552Z",
     "start_time": "2023-08-27T13:38:12.993751Z"
    }
   }
  },
  {
   "cell_type": "code",
   "execution_count": 52,
   "outputs": [],
   "source": [
    "travels_dataset['Lastname'] = travels_dataset['Lastname'].apply(remove_special_character)"
   ],
   "metadata": {
    "collapsed": false,
    "ExecuteTime": {
     "end_time": "2023-08-27T13:38:13.984125Z",
     "start_time": "2023-08-27T13:38:13.972963Z"
    }
   }
  },
  {
   "cell_type": "code",
   "execution_count": 53,
   "outputs": [
    {
     "data": {
      "text/plain": "              Employee     Destination Travel Start Date Travel End Date  \\\n0         Aaron Salter  OCEAN CITY, MD        2017-05-31      2017-06-02   \n1    Abigail Ratnofsky   SAN DIEGO, CA        2016-01-24      2016-01-29   \n2       Adam Kisthardt     ORLANDO, FL        2018-10-04      2018-10-09   \n3        Adam P. Jones  OCEAN CITY, MD        2016-06-19      2016-06-21   \n4          Alan Butsch   SAN DIEGO, CA        2019-11-19      2019-11-22   \n..                 ...             ...               ...             ...   \n413     Warren Jensen   OCEAN CITY, MD        2017-11-06      2017-11-09   \n414        Warp Jensen  OCEAN CITY, MD        2019-03-25      2019-03-26   \n415     Whitney Kujawa  OCEAN CITY, MD        2017-11-06      2017-11-09   \n416      William Kinna   CHARLOTTE, NC        2017-05-21      2017-05-26   \n417             Xin Qi  OCEAN CITY, MD        2019-08-13      2019-08-17   \n\n     Actual Total Expenses Purpose Of Travel State        City Firstname  \\\n0                   644.10        Conference    MD  OCEAN CITY     Aaron   \n1                  2962.70        Conference    CA   SAN DIEGO   Abigail   \n2                  1891.19        Conference    FL     ORLANDO      Adam   \n3                   324.36        Conference    MD  OCEAN CITY      Adam   \n4                  2141.51        Conference    CA   SAN DIEGO      Alan   \n..                     ...               ...   ...         ...       ...   \n413                 502.45        Conference    MD  OCEAN CITY    Warren   \n414                  78.00        Conference    MD  OCEAN CITY      Warp   \n415                 567.00        Conference    MD  OCEAN CITY   Whitney   \n416                2163.67        Conference    NC   CHARLOTTE   William   \n417                2107.51        Conference    MD  OCEAN CITY       Xin   \n\n      Lastname  \n0       Salter  \n1    Ratnofsky  \n2    Kisthardt  \n3        Jones  \n4       Butsch  \n..         ...  \n413     Jensen  \n414     Jensen  \n415     Kujawa  \n416      Kinna  \n417         Qi  \n\n[418 rows x 10 columns]",
      "text/html": "<div>\n<style scoped>\n    .dataframe tbody tr th:only-of-type {\n        vertical-align: middle;\n    }\n\n    .dataframe tbody tr th {\n        vertical-align: top;\n    }\n\n    .dataframe thead th {\n        text-align: right;\n    }\n</style>\n<table border=\"1\" class=\"dataframe\">\n  <thead>\n    <tr style=\"text-align: right;\">\n      <th></th>\n      <th>Employee</th>\n      <th>Destination</th>\n      <th>Travel Start Date</th>\n      <th>Travel End Date</th>\n      <th>Actual Total Expenses</th>\n      <th>Purpose Of Travel</th>\n      <th>State</th>\n      <th>City</th>\n      <th>Firstname</th>\n      <th>Lastname</th>\n    </tr>\n  </thead>\n  <tbody>\n    <tr>\n      <th>0</th>\n      <td>Aaron Salter</td>\n      <td>OCEAN CITY, MD</td>\n      <td>2017-05-31</td>\n      <td>2017-06-02</td>\n      <td>644.10</td>\n      <td>Conference</td>\n      <td>MD</td>\n      <td>OCEAN CITY</td>\n      <td>Aaron</td>\n      <td>Salter</td>\n    </tr>\n    <tr>\n      <th>1</th>\n      <td>Abigail Ratnofsky</td>\n      <td>SAN DIEGO, CA</td>\n      <td>2016-01-24</td>\n      <td>2016-01-29</td>\n      <td>2962.70</td>\n      <td>Conference</td>\n      <td>CA</td>\n      <td>SAN DIEGO</td>\n      <td>Abigail</td>\n      <td>Ratnofsky</td>\n    </tr>\n    <tr>\n      <th>2</th>\n      <td>Adam Kisthardt</td>\n      <td>ORLANDO, FL</td>\n      <td>2018-10-04</td>\n      <td>2018-10-09</td>\n      <td>1891.19</td>\n      <td>Conference</td>\n      <td>FL</td>\n      <td>ORLANDO</td>\n      <td>Adam</td>\n      <td>Kisthardt</td>\n    </tr>\n    <tr>\n      <th>3</th>\n      <td>Adam P. Jones</td>\n      <td>OCEAN CITY, MD</td>\n      <td>2016-06-19</td>\n      <td>2016-06-21</td>\n      <td>324.36</td>\n      <td>Conference</td>\n      <td>MD</td>\n      <td>OCEAN CITY</td>\n      <td>Adam</td>\n      <td>Jones</td>\n    </tr>\n    <tr>\n      <th>4</th>\n      <td>Alan Butsch</td>\n      <td>SAN DIEGO, CA</td>\n      <td>2019-11-19</td>\n      <td>2019-11-22</td>\n      <td>2141.51</td>\n      <td>Conference</td>\n      <td>CA</td>\n      <td>SAN DIEGO</td>\n      <td>Alan</td>\n      <td>Butsch</td>\n    </tr>\n    <tr>\n      <th>...</th>\n      <td>...</td>\n      <td>...</td>\n      <td>...</td>\n      <td>...</td>\n      <td>...</td>\n      <td>...</td>\n      <td>...</td>\n      <td>...</td>\n      <td>...</td>\n      <td>...</td>\n    </tr>\n    <tr>\n      <th>413</th>\n      <td>Warren Jensen</td>\n      <td>OCEAN CITY, MD</td>\n      <td>2017-11-06</td>\n      <td>2017-11-09</td>\n      <td>502.45</td>\n      <td>Conference</td>\n      <td>MD</td>\n      <td>OCEAN CITY</td>\n      <td>Warren</td>\n      <td>Jensen</td>\n    </tr>\n    <tr>\n      <th>414</th>\n      <td>Warp Jensen</td>\n      <td>OCEAN CITY, MD</td>\n      <td>2019-03-25</td>\n      <td>2019-03-26</td>\n      <td>78.00</td>\n      <td>Conference</td>\n      <td>MD</td>\n      <td>OCEAN CITY</td>\n      <td>Warp</td>\n      <td>Jensen</td>\n    </tr>\n    <tr>\n      <th>415</th>\n      <td>Whitney Kujawa</td>\n      <td>OCEAN CITY, MD</td>\n      <td>2017-11-06</td>\n      <td>2017-11-09</td>\n      <td>567.00</td>\n      <td>Conference</td>\n      <td>MD</td>\n      <td>OCEAN CITY</td>\n      <td>Whitney</td>\n      <td>Kujawa</td>\n    </tr>\n    <tr>\n      <th>416</th>\n      <td>William Kinna</td>\n      <td>CHARLOTTE, NC</td>\n      <td>2017-05-21</td>\n      <td>2017-05-26</td>\n      <td>2163.67</td>\n      <td>Conference</td>\n      <td>NC</td>\n      <td>CHARLOTTE</td>\n      <td>William</td>\n      <td>Kinna</td>\n    </tr>\n    <tr>\n      <th>417</th>\n      <td>Xin Qi</td>\n      <td>OCEAN CITY, MD</td>\n      <td>2019-08-13</td>\n      <td>2019-08-17</td>\n      <td>2107.51</td>\n      <td>Conference</td>\n      <td>MD</td>\n      <td>OCEAN CITY</td>\n      <td>Xin</td>\n      <td>Qi</td>\n    </tr>\n  </tbody>\n</table>\n<p>418 rows × 10 columns</p>\n</div>"
     },
     "execution_count": 53,
     "metadata": {},
     "output_type": "execute_result"
    }
   ],
   "source": [
    "travels_dataset"
   ],
   "metadata": {
    "collapsed": false,
    "ExecuteTime": {
     "end_time": "2023-08-27T13:38:15.579134Z",
     "start_time": "2023-08-27T13:38:15.572897Z"
    }
   }
  },
  {
   "cell_type": "markdown",
   "source": [
    "## US Demography"
   ],
   "metadata": {
    "collapsed": false
   }
  },
  {
   "cell_type": "code",
   "execution_count": 57,
   "outputs": [],
   "source": [
    "url = 'https://public.opendatasoft.com/api/explore/v2.1/catalog/datasets/us-cities-demographics/exports/json?lang=en&timezone=Africa%2FLagos'\n",
    "actual_demography = pd.read_json(url)"
   ],
   "metadata": {
    "collapsed": false,
    "ExecuteTime": {
     "end_time": "2023-08-27T23:28:07.935694Z",
     "start_time": "2023-08-27T23:28:06.406523Z"
    }
   }
  },
  {
   "cell_type": "code",
   "execution_count": 55,
   "outputs": [
    {
     "name": "stdout",
     "output_type": "stream",
     "text": [
      "<class 'pandas.core.frame.DataFrame'>\n",
      "RangeIndex: 2891 entries, 0 to 2890\n",
      "Data columns (total 12 columns):\n",
      " #   Column                  Non-Null Count  Dtype  \n",
      "---  ------                  --------------  -----  \n",
      " 0   city                    2891 non-null   object \n",
      " 1   state                   2891 non-null   object \n",
      " 2   median_age              2891 non-null   float64\n",
      " 3   male_population         2888 non-null   float64\n",
      " 4   female_population       2888 non-null   float64\n",
      " 5   total_population        2891 non-null   int64  \n",
      " 6   number_of_veterans      2878 non-null   float64\n",
      " 7   foreign_born            2878 non-null   float64\n",
      " 8   average_household_size  2875 non-null   float64\n",
      " 9   state_code              2891 non-null   object \n",
      " 10  race                    2891 non-null   object \n",
      " 11  count                   2891 non-null   int64  \n",
      "dtypes: float64(6), int64(2), object(4)\n",
      "memory usage: 271.2+ KB\n"
     ]
    }
   ],
   "source": [
    "demography.info()"
   ],
   "metadata": {
    "collapsed": false,
    "ExecuteTime": {
     "end_time": "2023-08-27T23:01:09.803541Z",
     "start_time": "2023-08-27T23:01:09.673400Z"
    }
   }
  },
  {
   "cell_type": "code",
   "execution_count": 56,
   "outputs": [
    {
     "data": {
      "text/plain": "               city       state  median_age  male_population  \\\n0            Newark  New Jersey        34.6         138040.0   \n1            Peoria    Illinois        33.1          56229.0   \n2          O'Fallon    Missouri        36.0          41762.0   \n3           Hampton    Virginia        35.5          66214.0   \n4          Lakewood    Colorado        37.7          76013.0   \n...             ...         ...         ...              ...   \n2886          Tyler       Texas        33.9          50422.0   \n2887  Mission Viejo  California        44.9          48849.0   \n2888        Compton  California        30.1          49264.0   \n2889        Buffalo    New York        33.1         124537.0   \n2890        Clifton  New Jersey        38.5          41932.0   \n\n      female_population  total_population  number_of_veterans  foreign_born  \\\n0              143873.0            281913              5829.0       86253.0   \n1               62432.0            118661              6634.0        7517.0   \n2               43270.0             85032              5783.0        3269.0   \n3               70240.0            136454             19638.0        6204.0   \n4               76576.0            152589              9988.0       14169.0   \n...                 ...               ...                 ...           ...   \n2886            53283.0            103705              4813.0        8225.0   \n2887            48314.0             97163              4713.0       17308.0   \n2888            49184.0             98448               897.0       30660.0   \n2889           133529.0            258066             11231.0       24630.0   \n2890            44409.0             86341              2603.0       27979.0   \n\n      average_household_size state_code                               race  \\\n0                       2.73         NJ                              White   \n1                       2.40         IL  American Indian and Alaska Native   \n2                       2.77         MO                 Hispanic or Latino   \n3                       2.48         VA          Black or African-American   \n4                       2.29         CO                 Hispanic or Latino   \n...                      ...        ...                                ...   \n2886                    2.59         TX                 Hispanic or Latino   \n2887                    2.85         CA          Black or African-American   \n2888                    4.08         CA          Black or African-American   \n2889                    2.27         NY                              White   \n2890                    3.11         NJ  American Indian and Alaska Native   \n\n       count  \n0      76402  \n1       1343  \n2       2583  \n3      70303  \n4      33630  \n...      ...  \n2886   21536  \n2887    2066  \n2888   26395  \n2889  130078  \n2890    2417  \n\n[2891 rows x 12 columns]",
      "text/html": "<div>\n<style scoped>\n    .dataframe tbody tr th:only-of-type {\n        vertical-align: middle;\n    }\n\n    .dataframe tbody tr th {\n        vertical-align: top;\n    }\n\n    .dataframe thead th {\n        text-align: right;\n    }\n</style>\n<table border=\"1\" class=\"dataframe\">\n  <thead>\n    <tr style=\"text-align: right;\">\n      <th></th>\n      <th>city</th>\n      <th>state</th>\n      <th>median_age</th>\n      <th>male_population</th>\n      <th>female_population</th>\n      <th>total_population</th>\n      <th>number_of_veterans</th>\n      <th>foreign_born</th>\n      <th>average_household_size</th>\n      <th>state_code</th>\n      <th>race</th>\n      <th>count</th>\n    </tr>\n  </thead>\n  <tbody>\n    <tr>\n      <th>0</th>\n      <td>Newark</td>\n      <td>New Jersey</td>\n      <td>34.6</td>\n      <td>138040.0</td>\n      <td>143873.0</td>\n      <td>281913</td>\n      <td>5829.0</td>\n      <td>86253.0</td>\n      <td>2.73</td>\n      <td>NJ</td>\n      <td>White</td>\n      <td>76402</td>\n    </tr>\n    <tr>\n      <th>1</th>\n      <td>Peoria</td>\n      <td>Illinois</td>\n      <td>33.1</td>\n      <td>56229.0</td>\n      <td>62432.0</td>\n      <td>118661</td>\n      <td>6634.0</td>\n      <td>7517.0</td>\n      <td>2.40</td>\n      <td>IL</td>\n      <td>American Indian and Alaska Native</td>\n      <td>1343</td>\n    </tr>\n    <tr>\n      <th>2</th>\n      <td>O'Fallon</td>\n      <td>Missouri</td>\n      <td>36.0</td>\n      <td>41762.0</td>\n      <td>43270.0</td>\n      <td>85032</td>\n      <td>5783.0</td>\n      <td>3269.0</td>\n      <td>2.77</td>\n      <td>MO</td>\n      <td>Hispanic or Latino</td>\n      <td>2583</td>\n    </tr>\n    <tr>\n      <th>3</th>\n      <td>Hampton</td>\n      <td>Virginia</td>\n      <td>35.5</td>\n      <td>66214.0</td>\n      <td>70240.0</td>\n      <td>136454</td>\n      <td>19638.0</td>\n      <td>6204.0</td>\n      <td>2.48</td>\n      <td>VA</td>\n      <td>Black or African-American</td>\n      <td>70303</td>\n    </tr>\n    <tr>\n      <th>4</th>\n      <td>Lakewood</td>\n      <td>Colorado</td>\n      <td>37.7</td>\n      <td>76013.0</td>\n      <td>76576.0</td>\n      <td>152589</td>\n      <td>9988.0</td>\n      <td>14169.0</td>\n      <td>2.29</td>\n      <td>CO</td>\n      <td>Hispanic or Latino</td>\n      <td>33630</td>\n    </tr>\n    <tr>\n      <th>...</th>\n      <td>...</td>\n      <td>...</td>\n      <td>...</td>\n      <td>...</td>\n      <td>...</td>\n      <td>...</td>\n      <td>...</td>\n      <td>...</td>\n      <td>...</td>\n      <td>...</td>\n      <td>...</td>\n      <td>...</td>\n    </tr>\n    <tr>\n      <th>2886</th>\n      <td>Tyler</td>\n      <td>Texas</td>\n      <td>33.9</td>\n      <td>50422.0</td>\n      <td>53283.0</td>\n      <td>103705</td>\n      <td>4813.0</td>\n      <td>8225.0</td>\n      <td>2.59</td>\n      <td>TX</td>\n      <td>Hispanic or Latino</td>\n      <td>21536</td>\n    </tr>\n    <tr>\n      <th>2887</th>\n      <td>Mission Viejo</td>\n      <td>California</td>\n      <td>44.9</td>\n      <td>48849.0</td>\n      <td>48314.0</td>\n      <td>97163</td>\n      <td>4713.0</td>\n      <td>17308.0</td>\n      <td>2.85</td>\n      <td>CA</td>\n      <td>Black or African-American</td>\n      <td>2066</td>\n    </tr>\n    <tr>\n      <th>2888</th>\n      <td>Compton</td>\n      <td>California</td>\n      <td>30.1</td>\n      <td>49264.0</td>\n      <td>49184.0</td>\n      <td>98448</td>\n      <td>897.0</td>\n      <td>30660.0</td>\n      <td>4.08</td>\n      <td>CA</td>\n      <td>Black or African-American</td>\n      <td>26395</td>\n    </tr>\n    <tr>\n      <th>2889</th>\n      <td>Buffalo</td>\n      <td>New York</td>\n      <td>33.1</td>\n      <td>124537.0</td>\n      <td>133529.0</td>\n      <td>258066</td>\n      <td>11231.0</td>\n      <td>24630.0</td>\n      <td>2.27</td>\n      <td>NY</td>\n      <td>White</td>\n      <td>130078</td>\n    </tr>\n    <tr>\n      <th>2890</th>\n      <td>Clifton</td>\n      <td>New Jersey</td>\n      <td>38.5</td>\n      <td>41932.0</td>\n      <td>44409.0</td>\n      <td>86341</td>\n      <td>2603.0</td>\n      <td>27979.0</td>\n      <td>3.11</td>\n      <td>NJ</td>\n      <td>American Indian and Alaska Native</td>\n      <td>2417</td>\n    </tr>\n  </tbody>\n</table>\n<p>2891 rows × 12 columns</p>\n</div>"
     },
     "execution_count": 56,
     "metadata": {},
     "output_type": "execute_result"
    }
   ],
   "source": [
    "demography"
   ],
   "metadata": {
    "collapsed": false,
    "ExecuteTime": {
     "end_time": "2023-08-27T23:12:08.872270Z",
     "start_time": "2023-08-27T23:12:08.857552Z"
    }
   }
  },
  {
   "cell_type": "code",
   "execution_count": 58,
   "outputs": [],
   "source": [
    "demography = actual_demography.copy()"
   ],
   "metadata": {
    "collapsed": false,
    "ExecuteTime": {
     "end_time": "2023-08-28T00:48:18.102898Z",
     "start_time": "2023-08-28T00:48:18.086002Z"
    }
   }
  },
  {
   "cell_type": "code",
   "execution_count": 60,
   "outputs": [
    {
     "data": {
      "text/plain": "numpy.float64"
     },
     "execution_count": 60,
     "metadata": {},
     "output_type": "execute_result"
    }
   ],
   "source": [
    "type(demography['male_population'][0])"
   ],
   "metadata": {
    "collapsed": false,
    "ExecuteTime": {
     "end_time": "2023-08-28T00:56:25.561282Z",
     "start_time": "2023-08-28T00:56:25.472819Z"
    }
   }
  },
  {
   "cell_type": "code",
   "execution_count": 59,
   "outputs": [],
   "source": [
    "import numpy as np\n"
   ],
   "metadata": {
    "collapsed": false,
    "ExecuteTime": {
     "end_time": "2023-08-28T00:54:19.646889Z",
     "start_time": "2023-08-28T00:54:19.642419Z"
    }
   }
  },
  {
   "cell_type": "code",
   "execution_count": 61,
   "outputs": [],
   "source": [
    "demography['male_population'] = demography['male_population'].apply(lambda x: int(x) if type(x) == np.float64 else x)"
   ],
   "metadata": {
    "collapsed": false,
    "ExecuteTime": {
     "end_time": "2023-08-28T00:57:08.617928Z",
     "start_time": "2023-08-28T00:57:08.607879Z"
    }
   }
  },
  {
   "cell_type": "code",
   "execution_count": 62,
   "outputs": [
    {
     "data": {
      "text/plain": "0       138040.0\n1        56229.0\n2        41762.0\n3        66214.0\n4        76013.0\n          ...   \n2886     50422.0\n2887     48849.0\n2888     49264.0\n2889    124537.0\n2890     41932.0\nName: male_population, Length: 2891, dtype: float64"
     },
     "execution_count": 62,
     "metadata": {},
     "output_type": "execute_result"
    }
   ],
   "source": [
    "demography['male_population']"
   ],
   "metadata": {
    "collapsed": false,
    "ExecuteTime": {
     "end_time": "2023-08-28T00:57:53.473744Z",
     "start_time": "2023-08-28T00:57:53.465234Z"
    }
   }
  },
  {
   "cell_type": "code",
   "execution_count": 63,
   "outputs": [],
   "source": [
    "def convert_float(text):\n",
    "    result = int(text)\n",
    "    return result"
   ],
   "metadata": {
    "collapsed": false,
    "ExecuteTime": {
     "end_time": "2023-08-28T00:59:01.383726Z",
     "start_time": "2023-08-28T00:59:01.377750Z"
    }
   }
  },
  {
   "cell_type": "code",
   "execution_count": 65,
   "outputs": [],
   "source": [
    "demography['male_population'] = demography['male_population'].replace('NaN', 0)"
   ],
   "metadata": {
    "collapsed": false,
    "ExecuteTime": {
     "end_time": "2023-08-28T01:57:45.950156Z",
     "start_time": "2023-08-28T01:57:45.888638Z"
    }
   }
  },
  {
   "cell_type": "code",
   "execution_count": 66,
   "outputs": [
    {
     "ename": "ValueError",
     "evalue": "cannot convert float NaN to integer",
     "output_type": "error",
     "traceback": [
      "\u001B[0;31m---------------------------------------------------------------------------\u001B[0m",
      "\u001B[0;31mValueError\u001B[0m                                Traceback (most recent call last)",
      "\u001B[0;32m/var/folders/jt/m8gkc26557xc08ncxbng9_x40000gn/T/ipykernel_63771/3368286519.py\u001B[0m in \u001B[0;36m<module>\u001B[0;34m\u001B[0m\n\u001B[0;32m----> 1\u001B[0;31m \u001B[0mdemography\u001B[0m\u001B[0;34m[\u001B[0m\u001B[0;34m'male_population'\u001B[0m\u001B[0;34m]\u001B[0m \u001B[0;34m=\u001B[0m \u001B[0mdemography\u001B[0m\u001B[0;34m[\u001B[0m\u001B[0;34m'male_population'\u001B[0m\u001B[0;34m]\u001B[0m\u001B[0;34m.\u001B[0m\u001B[0mapply\u001B[0m\u001B[0;34m(\u001B[0m\u001B[0mconvert_float\u001B[0m\u001B[0;34m)\u001B[0m\u001B[0;34m\u001B[0m\u001B[0;34m\u001B[0m\u001B[0m\n\u001B[0m",
      "\u001B[0;32m~/opt/anaconda3/lib/python3.9/site-packages/pandas/core/series.py\u001B[0m in \u001B[0;36mapply\u001B[0;34m(self, func, convert_dtype, args, **kwargs)\u001B[0m\n\u001B[1;32m   4431\u001B[0m         \u001B[0mdtype\u001B[0m\u001B[0;34m:\u001B[0m \u001B[0mfloat64\u001B[0m\u001B[0;34m\u001B[0m\u001B[0;34m\u001B[0m\u001B[0m\n\u001B[1;32m   4432\u001B[0m         \"\"\"\n\u001B[0;32m-> 4433\u001B[0;31m         \u001B[0;32mreturn\u001B[0m \u001B[0mSeriesApply\u001B[0m\u001B[0;34m(\u001B[0m\u001B[0mself\u001B[0m\u001B[0;34m,\u001B[0m \u001B[0mfunc\u001B[0m\u001B[0;34m,\u001B[0m \u001B[0mconvert_dtype\u001B[0m\u001B[0;34m,\u001B[0m \u001B[0margs\u001B[0m\u001B[0;34m,\u001B[0m \u001B[0mkwargs\u001B[0m\u001B[0;34m)\u001B[0m\u001B[0;34m.\u001B[0m\u001B[0mapply\u001B[0m\u001B[0;34m(\u001B[0m\u001B[0;34m)\u001B[0m\u001B[0;34m\u001B[0m\u001B[0;34m\u001B[0m\u001B[0m\n\u001B[0m\u001B[1;32m   4434\u001B[0m \u001B[0;34m\u001B[0m\u001B[0m\n\u001B[1;32m   4435\u001B[0m     def _reduce(\n",
      "\u001B[0;32m~/opt/anaconda3/lib/python3.9/site-packages/pandas/core/apply.py\u001B[0m in \u001B[0;36mapply\u001B[0;34m(self)\u001B[0m\n\u001B[1;32m   1086\u001B[0m             \u001B[0;32mreturn\u001B[0m \u001B[0mself\u001B[0m\u001B[0;34m.\u001B[0m\u001B[0mapply_str\u001B[0m\u001B[0;34m(\u001B[0m\u001B[0;34m)\u001B[0m\u001B[0;34m\u001B[0m\u001B[0;34m\u001B[0m\u001B[0m\n\u001B[1;32m   1087\u001B[0m \u001B[0;34m\u001B[0m\u001B[0m\n\u001B[0;32m-> 1088\u001B[0;31m         \u001B[0;32mreturn\u001B[0m \u001B[0mself\u001B[0m\u001B[0;34m.\u001B[0m\u001B[0mapply_standard\u001B[0m\u001B[0;34m(\u001B[0m\u001B[0;34m)\u001B[0m\u001B[0;34m\u001B[0m\u001B[0;34m\u001B[0m\u001B[0m\n\u001B[0m\u001B[1;32m   1089\u001B[0m \u001B[0;34m\u001B[0m\u001B[0m\n\u001B[1;32m   1090\u001B[0m     \u001B[0;32mdef\u001B[0m \u001B[0magg\u001B[0m\u001B[0;34m(\u001B[0m\u001B[0mself\u001B[0m\u001B[0;34m)\u001B[0m\u001B[0;34m:\u001B[0m\u001B[0;34m\u001B[0m\u001B[0;34m\u001B[0m\u001B[0m\n",
      "\u001B[0;32m~/opt/anaconda3/lib/python3.9/site-packages/pandas/core/apply.py\u001B[0m in \u001B[0;36mapply_standard\u001B[0;34m(self)\u001B[0m\n\u001B[1;32m   1141\u001B[0m                 \u001B[0;31m# List[Union[Callable[..., Any], str]]]]]\"; expected\u001B[0m\u001B[0;34m\u001B[0m\u001B[0;34m\u001B[0m\u001B[0m\n\u001B[1;32m   1142\u001B[0m                 \u001B[0;31m# \"Callable[[Any], Any]\"\u001B[0m\u001B[0;34m\u001B[0m\u001B[0;34m\u001B[0m\u001B[0m\n\u001B[0;32m-> 1143\u001B[0;31m                 mapped = lib.map_infer(\n\u001B[0m\u001B[1;32m   1144\u001B[0m                     \u001B[0mvalues\u001B[0m\u001B[0;34m,\u001B[0m\u001B[0;34m\u001B[0m\u001B[0;34m\u001B[0m\u001B[0m\n\u001B[1;32m   1145\u001B[0m                     \u001B[0mf\u001B[0m\u001B[0;34m,\u001B[0m  \u001B[0;31m# type: ignore[arg-type]\u001B[0m\u001B[0;34m\u001B[0m\u001B[0;34m\u001B[0m\u001B[0m\n",
      "\u001B[0;32m~/opt/anaconda3/lib/python3.9/site-packages/pandas/_libs/lib.pyx\u001B[0m in \u001B[0;36mpandas._libs.lib.map_infer\u001B[0;34m()\u001B[0m\n",
      "\u001B[0;32m/var/folders/jt/m8gkc26557xc08ncxbng9_x40000gn/T/ipykernel_63771/4043141078.py\u001B[0m in \u001B[0;36mconvert_float\u001B[0;34m(text)\u001B[0m\n\u001B[1;32m      1\u001B[0m \u001B[0;32mdef\u001B[0m \u001B[0mconvert_float\u001B[0m\u001B[0;34m(\u001B[0m\u001B[0mtext\u001B[0m\u001B[0;34m)\u001B[0m\u001B[0;34m:\u001B[0m\u001B[0;34m\u001B[0m\u001B[0;34m\u001B[0m\u001B[0m\n\u001B[0;32m----> 2\u001B[0;31m     \u001B[0mresult\u001B[0m \u001B[0;34m=\u001B[0m \u001B[0mint\u001B[0m\u001B[0;34m(\u001B[0m\u001B[0mtext\u001B[0m\u001B[0;34m)\u001B[0m\u001B[0;34m\u001B[0m\u001B[0;34m\u001B[0m\u001B[0m\n\u001B[0m\u001B[1;32m      3\u001B[0m     \u001B[0;32mreturn\u001B[0m \u001B[0mresult\u001B[0m\u001B[0;34m\u001B[0m\u001B[0;34m\u001B[0m\u001B[0m\n",
      "\u001B[0;31mValueError\u001B[0m: cannot convert float NaN to integer"
     ]
    }
   ],
   "source": [
    "demography['male_population'] = demography['male_population'].apply(convert_float)"
   ],
   "metadata": {
    "collapsed": false,
    "ExecuteTime": {
     "end_time": "2023-08-28T01:58:53.486750Z",
     "start_time": "2023-08-28T01:58:53.402499Z"
    }
   }
  },
  {
   "cell_type": "code",
   "execution_count": 67,
   "outputs": [
    {
     "data": {
      "text/plain": "       city       state  median_age  male_population  female_population  \\\n0    Newark  New Jersey        34.6         138040.0           143873.0   \n1    Peoria    Illinois        33.1          56229.0            62432.0   \n2  O'Fallon    Missouri        36.0          41762.0            43270.0   \n3   Hampton    Virginia        35.5          66214.0            70240.0   \n4  Lakewood    Colorado        37.7          76013.0            76576.0   \n\n   total_population  number_of_veterans  foreign_born  average_household_size  \\\n0            281913              5829.0       86253.0                    2.73   \n1            118661              6634.0        7517.0                    2.40   \n2             85032              5783.0        3269.0                    2.77   \n3            136454             19638.0        6204.0                    2.48   \n4            152589              9988.0       14169.0                    2.29   \n\n  state_code                               race  count  \n0         NJ                              White  76402  \n1         IL  American Indian and Alaska Native   1343  \n2         MO                 Hispanic or Latino   2583  \n3         VA          Black or African-American  70303  \n4         CO                 Hispanic or Latino  33630  ",
      "text/html": "<div>\n<style scoped>\n    .dataframe tbody tr th:only-of-type {\n        vertical-align: middle;\n    }\n\n    .dataframe tbody tr th {\n        vertical-align: top;\n    }\n\n    .dataframe thead th {\n        text-align: right;\n    }\n</style>\n<table border=\"1\" class=\"dataframe\">\n  <thead>\n    <tr style=\"text-align: right;\">\n      <th></th>\n      <th>city</th>\n      <th>state</th>\n      <th>median_age</th>\n      <th>male_population</th>\n      <th>female_population</th>\n      <th>total_population</th>\n      <th>number_of_veterans</th>\n      <th>foreign_born</th>\n      <th>average_household_size</th>\n      <th>state_code</th>\n      <th>race</th>\n      <th>count</th>\n    </tr>\n  </thead>\n  <tbody>\n    <tr>\n      <th>0</th>\n      <td>Newark</td>\n      <td>New Jersey</td>\n      <td>34.6</td>\n      <td>138040.0</td>\n      <td>143873.0</td>\n      <td>281913</td>\n      <td>5829.0</td>\n      <td>86253.0</td>\n      <td>2.73</td>\n      <td>NJ</td>\n      <td>White</td>\n      <td>76402</td>\n    </tr>\n    <tr>\n      <th>1</th>\n      <td>Peoria</td>\n      <td>Illinois</td>\n      <td>33.1</td>\n      <td>56229.0</td>\n      <td>62432.0</td>\n      <td>118661</td>\n      <td>6634.0</td>\n      <td>7517.0</td>\n      <td>2.40</td>\n      <td>IL</td>\n      <td>American Indian and Alaska Native</td>\n      <td>1343</td>\n    </tr>\n    <tr>\n      <th>2</th>\n      <td>O'Fallon</td>\n      <td>Missouri</td>\n      <td>36.0</td>\n      <td>41762.0</td>\n      <td>43270.0</td>\n      <td>85032</td>\n      <td>5783.0</td>\n      <td>3269.0</td>\n      <td>2.77</td>\n      <td>MO</td>\n      <td>Hispanic or Latino</td>\n      <td>2583</td>\n    </tr>\n    <tr>\n      <th>3</th>\n      <td>Hampton</td>\n      <td>Virginia</td>\n      <td>35.5</td>\n      <td>66214.0</td>\n      <td>70240.0</td>\n      <td>136454</td>\n      <td>19638.0</td>\n      <td>6204.0</td>\n      <td>2.48</td>\n      <td>VA</td>\n      <td>Black or African-American</td>\n      <td>70303</td>\n    </tr>\n    <tr>\n      <th>4</th>\n      <td>Lakewood</td>\n      <td>Colorado</td>\n      <td>37.7</td>\n      <td>76013.0</td>\n      <td>76576.0</td>\n      <td>152589</td>\n      <td>9988.0</td>\n      <td>14169.0</td>\n      <td>2.29</td>\n      <td>CO</td>\n      <td>Hispanic or Latino</td>\n      <td>33630</td>\n    </tr>\n  </tbody>\n</table>\n</div>"
     },
     "execution_count": 67,
     "metadata": {},
     "output_type": "execute_result"
    }
   ],
   "source": [
    "demography.head()"
   ],
   "metadata": {
    "collapsed": false,
    "ExecuteTime": {
     "end_time": "2023-08-28T02:00:01.426897Z",
     "start_time": "2023-08-28T02:00:01.384040Z"
    }
   }
  },
  {
   "cell_type": "code",
   "execution_count": null,
   "outputs": [],
   "source": [],
   "metadata": {
    "collapsed": false
   }
  }
 ],
 "metadata": {
  "kernelspec": {
   "display_name": "Python 3 (ipykernel)",
   "language": "python",
   "name": "python3"
  },
  "language_info": {
   "codemirror_mode": {
    "name": "ipython",
    "version": 3
   },
   "file_extension": ".py",
   "mimetype": "text/x-python",
   "name": "python",
   "nbconvert_exporter": "python",
   "pygments_lexer": "ipython3",
   "version": "3.9.13"
  }
 },
 "nbformat": 4,
 "nbformat_minor": 5
}
